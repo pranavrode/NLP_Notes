{
 "cells": [
  {
   "cell_type": "code",
   "execution_count": null,
   "id": "633eb763",
   "metadata": {},
   "outputs": [],
   "source": [
    "! pip install spacy\n",
    "! python -m spacy download en_core_web_md"
   ]
  },
  {
   "cell_type": "code",
   "execution_count": 1,
   "id": "0969f1e9",
   "metadata": {},
   "outputs": [],
   "source": [
    "data = \"\"\"The sun is a huge ball of gases. It has a diameter\n",
    "of 1,392,000 km. It is so huge that it can hold millions of planets \n",
    "inside it. The Sun is mainly made up of hydrogen and helium gas. The\n",
    "surface of the Sun is known as the photosphere. The photosphere is surrounded \n",
    "by a thin layer of gas known as the chromospheres. Without the Sun, there would \n",
    "be no life on Earth. There would be no plants, no animals and no human beings. As,\n",
    "all the living things on Earth get their energy from the Sun for their survival.\"\"\""
   ]
  },
  {
   "cell_type": "code",
   "execution_count": 2,
   "id": "ef2932f9",
   "metadata": {},
   "outputs": [],
   "source": [
    "from nltk.tokenize import word_tokenize\n",
    "from nltk.corpus import stopwords\n",
    "from string import punctuation\n",
    "stopword_list = stopwords.words(\"english\")\n",
    "stopword_list.remove(\"no\")\n",
    "stopword_list.remove(\"not\")\n",
    "stopword_list.remove(\"nor\")\n",
    "def cleaning_text(data):\n",
    "    tokens = word_tokenize(data)\n",
    "    clean_tokens = [ i.lower() for i in tokens if (i.lower() not in stopword_list) and (i not in punctuation) ]\n",
    "    clean_tokens = [ i for i in  clean_tokens if (len(i)>1) and i.isalpha()]\n",
    "    return \" \".join(clean_tokens)"
   ]
  },
  {
   "cell_type": "code",
   "execution_count": 3,
   "id": "c5d3fed1",
   "metadata": {},
   "outputs": [
    {
     "data": {
      "text/plain": [
       "'sun huge ball gases diameter km huge hold millions planets inside sun mainly made hydrogen helium gas surface sun known photosphere photosphere surrounded thin layer gas known chromospheres without sun would no life earth would no plants no animals no human beings living things earth get energy sun survival'"
      ]
     },
     "execution_count": 3,
     "metadata": {},
     "output_type": "execute_result"
    }
   ],
   "source": [
    "clean_text = cleaning_text(data)\n",
    "clean_text"
   ]
  },
  {
   "cell_type": "code",
   "execution_count": 4,
   "id": "50c71a87",
   "metadata": {},
   "outputs": [],
   "source": [
    "import spacy\n",
    "nlp = spacy.load('en_core_web_md')\n"
   ]
  },
  {
   "cell_type": "code",
   "execution_count": 5,
   "id": "310f5b7f",
   "metadata": {},
   "outputs": [],
   "source": [
    "doc1 = nlp(clean_text)"
   ]
  },
  {
   "cell_type": "code",
   "execution_count": 7,
   "id": "e7d4556a",
   "metadata": {},
   "outputs": [
    {
     "data": {
      "text/plain": [
       "[('sun', 'PROPN'),\n",
       " ('huge', 'ADJ'),\n",
       " ('ball', 'NOUN'),\n",
       " ('gases', 'NOUN'),\n",
       " ('diameter', 'NOUN'),\n",
       " ('km', 'ADP'),\n",
       " ('huge', 'ADJ'),\n",
       " ('hold', 'NOUN'),\n",
       " ('millions', 'NOUN'),\n",
       " ('planets', 'NOUN'),\n",
       " ('inside', 'ADP'),\n",
       " ('sun', 'NOUN'),\n",
       " ('mainly', 'ADV'),\n",
       " ('made', 'VERB'),\n",
       " ('hydrogen', 'NOUN'),\n",
       " ('helium', 'NOUN'),\n",
       " ('gas', 'NOUN'),\n",
       " ('surface', 'PROPN'),\n",
       " ('sun', 'PROPN'),\n",
       " ('known', 'VERB'),\n",
       " ('photosphere', 'PROPN'),\n",
       " ('photosphere', 'PROPN'),\n",
       " ('surrounded', 'VERB'),\n",
       " ('thin', 'ADJ'),\n",
       " ('layer', 'NOUN'),\n",
       " ('gas', 'NOUN'),\n",
       " ('known', 'VERB'),\n",
       " ('chromospheres', 'NOUN'),\n",
       " ('without', 'ADP'),\n",
       " ('sun', 'NOUN'),\n",
       " ('would', 'AUX'),\n",
       " ('no', 'DET'),\n",
       " ('life', 'NOUN'),\n",
       " ('earth', 'NOUN'),\n",
       " ('would', 'AUX'),\n",
       " ('no', 'DET'),\n",
       " ('plants', 'VERB'),\n",
       " ('no', 'DET'),\n",
       " ('animals', 'NOUN'),\n",
       " ('no', 'DET'),\n",
       " ('human', 'ADJ'),\n",
       " ('beings', 'NOUN'),\n",
       " ('living', 'VERB'),\n",
       " ('things', 'NOUN'),\n",
       " ('earth', 'NOUN'),\n",
       " ('get', 'VERB'),\n",
       " ('energy', 'NOUN'),\n",
       " ('sun', 'NOUN'),\n",
       " ('survival', 'NOUN')]"
      ]
     },
     "execution_count": 7,
     "metadata": {},
     "output_type": "execute_result"
    }
   ],
   "source": [
    "[(token.text, token.pos_) for token in doc1]# part of speech tagging"
   ]
  },
  {
   "cell_type": "code",
   "execution_count": 8,
   "id": "2ced9e57",
   "metadata": {},
   "outputs": [
    {
     "data": {
      "text/plain": [
       "[('millions', 'CARDINAL'), ('sun', 'PERSON')]"
      ]
     },
     "execution_count": 8,
     "metadata": {},
     "output_type": "execute_result"
    }
   ],
   "source": [
    "# named entity\n",
    "[(token.text, token.label_) for token in doc1.ents]"
   ]
  },
  {
   "cell_type": "code",
   "execution_count": 9,
   "id": "17eebca6",
   "metadata": {},
   "outputs": [],
   "source": [
    "# without cleaning\n",
    "doc = nlp(data)"
   ]
  },
  {
   "cell_type": "code",
   "execution_count": 10,
   "id": "6ae5c317",
   "metadata": {},
   "outputs": [
    {
     "data": {
      "text/plain": [
       "[('The', 'DET'),\n",
       " ('sun', 'NOUN'),\n",
       " ('is', 'AUX'),\n",
       " ('a', 'DET'),\n",
       " ('huge', 'ADJ'),\n",
       " ('ball', 'NOUN'),\n",
       " ('of', 'ADP'),\n",
       " ('gases', 'NOUN'),\n",
       " ('.', 'PUNCT'),\n",
       " ('It', 'PRON'),\n",
       " ('has', 'VERB'),\n",
       " ('a', 'DET'),\n",
       " ('diameter', 'NOUN'),\n",
       " ('\\n', 'SPACE'),\n",
       " ('of', 'ADP'),\n",
       " ('1,392,000', 'NUM'),\n",
       " ('km', 'NOUN'),\n",
       " ('.', 'PUNCT'),\n",
       " ('It', 'PRON'),\n",
       " ('is', 'AUX'),\n",
       " ('so', 'ADV'),\n",
       " ('huge', 'ADJ'),\n",
       " ('that', 'SCONJ'),\n",
       " ('it', 'PRON'),\n",
       " ('can', 'AUX'),\n",
       " ('hold', 'VERB'),\n",
       " ('millions', 'NOUN'),\n",
       " ('of', 'ADP'),\n",
       " ('planets', 'NOUN'),\n",
       " ('\\n', 'SPACE'),\n",
       " ('inside', 'ADP'),\n",
       " ('it', 'PRON'),\n",
       " ('.', 'PUNCT'),\n",
       " ('The', 'DET'),\n",
       " ('Sun', 'PROPN'),\n",
       " ('is', 'AUX'),\n",
       " ('mainly', 'ADV'),\n",
       " ('made', 'VERB'),\n",
       " ('up', 'ADP'),\n",
       " ('of', 'ADP'),\n",
       " ('hydrogen', 'NOUN'),\n",
       " ('and', 'CCONJ'),\n",
       " ('helium', 'NOUN'),\n",
       " ('gas', 'NOUN'),\n",
       " ('.', 'PUNCT'),\n",
       " ('The', 'DET'),\n",
       " ('\\n', 'SPACE'),\n",
       " ('surface', 'NOUN'),\n",
       " ('of', 'ADP'),\n",
       " ('the', 'DET'),\n",
       " ('Sun', 'PROPN'),\n",
       " ('is', 'AUX'),\n",
       " ('known', 'VERB'),\n",
       " ('as', 'ADP'),\n",
       " ('the', 'DET'),\n",
       " ('photosphere', 'NOUN'),\n",
       " ('.', 'PUNCT'),\n",
       " ('The', 'DET'),\n",
       " ('photosphere', 'NOUN'),\n",
       " ('is', 'AUX'),\n",
       " ('surrounded', 'VERB'),\n",
       " ('\\n', 'SPACE'),\n",
       " ('by', 'ADP'),\n",
       " ('a', 'DET'),\n",
       " ('thin', 'ADJ'),\n",
       " ('layer', 'NOUN'),\n",
       " ('of', 'ADP'),\n",
       " ('gas', 'NOUN'),\n",
       " ('known', 'VERB'),\n",
       " ('as', 'ADP'),\n",
       " ('the', 'DET'),\n",
       " ('chromospheres', 'NOUN'),\n",
       " ('.', 'PUNCT'),\n",
       " ('Without', 'ADP'),\n",
       " ('the', 'DET'),\n",
       " ('Sun', 'PROPN'),\n",
       " (',', 'PUNCT'),\n",
       " ('there', 'PRON'),\n",
       " ('would', 'AUX'),\n",
       " ('\\n', 'SPACE'),\n",
       " ('be', 'AUX'),\n",
       " ('no', 'DET'),\n",
       " ('life', 'NOUN'),\n",
       " ('on', 'ADP'),\n",
       " ('Earth', 'PROPN'),\n",
       " ('.', 'PUNCT'),\n",
       " ('There', 'PRON'),\n",
       " ('would', 'AUX'),\n",
       " ('be', 'AUX'),\n",
       " ('no', 'DET'),\n",
       " ('plants', 'NOUN'),\n",
       " (',', 'PUNCT'),\n",
       " ('no', 'DET'),\n",
       " ('animals', 'NOUN'),\n",
       " ('and', 'CCONJ'),\n",
       " ('no', 'DET'),\n",
       " ('human', 'ADJ'),\n",
       " ('beings', 'NOUN'),\n",
       " ('.', 'PUNCT'),\n",
       " ('As', 'SCONJ'),\n",
       " (',', 'PUNCT'),\n",
       " ('\\n', 'SPACE'),\n",
       " ('all', 'DET'),\n",
       " ('the', 'DET'),\n",
       " ('living', 'VERB'),\n",
       " ('things', 'NOUN'),\n",
       " ('on', 'ADP'),\n",
       " ('Earth', 'PROPN'),\n",
       " ('get', 'VERB'),\n",
       " ('their', 'PRON'),\n",
       " ('energy', 'NOUN'),\n",
       " ('from', 'ADP'),\n",
       " ('the', 'DET'),\n",
       " ('Sun', 'PROPN'),\n",
       " ('for', 'ADP'),\n",
       " ('their', 'PRON'),\n",
       " ('survival', 'NOUN'),\n",
       " ('.', 'PUNCT')]"
      ]
     },
     "execution_count": 10,
     "metadata": {},
     "output_type": "execute_result"
    }
   ],
   "source": [
    "[(token.text, token.pos_) for token in doc]# part of speech tagging"
   ]
  },
  {
   "cell_type": "code",
   "execution_count": 11,
   "id": "80a30a73",
   "metadata": {},
   "outputs": [
    {
     "data": {
      "text/plain": [
       "[('1,392,000 km', 'QUANTITY'),\n",
       " ('millions', 'CARDINAL'),\n",
       " ('Sun', 'ORG'),\n",
       " ('Sun', 'ORG'),\n",
       " ('Sun', 'ORG'),\n",
       " ('Earth', 'LOC'),\n",
       " ('Earth', 'LOC'),\n",
       " ('Sun', 'ORG')]"
      ]
     },
     "execution_count": 11,
     "metadata": {},
     "output_type": "execute_result"
    }
   ],
   "source": [
    "# named entity\n",
    "[(token.text, token.label_) for token in doc.ents]"
   ]
  },
  {
   "cell_type": "code",
   "execution_count": 12,
   "id": "1a05563f",
   "metadata": {},
   "outputs": [
    {
     "data": {
      "text/plain": [
       "'Numerals that do not fall under another type'"
      ]
     },
     "execution_count": 12,
     "metadata": {},
     "output_type": "execute_result"
    }
   ],
   "source": [
    "spacy.explain('CARDINAL')"
   ]
  },
  {
   "cell_type": "code",
   "execution_count": 13,
   "id": "20fcfd42",
   "metadata": {},
   "outputs": [
    {
     "data": {
      "text/plain": [
       "'Companies, agencies, institutions, etc.'"
      ]
     },
     "execution_count": 13,
     "metadata": {},
     "output_type": "execute_result"
    }
   ],
   "source": [
    "spacy.explain('ORG')"
   ]
  },
  {
   "cell_type": "code",
   "execution_count": 14,
   "id": "17c64f67",
   "metadata": {},
   "outputs": [
    {
     "data": {
      "text/plain": [
       "'Non-GPE locations, mountain ranges, bodies of water'"
      ]
     },
     "execution_count": 14,
     "metadata": {},
     "output_type": "execute_result"
    }
   ],
   "source": [
    "spacy.explain('LOC')"
   ]
  },
  {
   "cell_type": "code",
   "execution_count": 15,
   "id": "23e22ff6",
   "metadata": {},
   "outputs": [
    {
     "data": {
      "text/html": [
       "<span class=\"tex2jax_ignore\"><div class=\"entities\" style=\"line-height: 2.5; direction: ltr\">sun huge ball gases diameter km huge hold \n",
       "<mark class=\"entity\" style=\"background: #e4e7d2; padding: 0.45em 0.6em; margin: 0 0.25em; line-height: 1; border-radius: 0.35em;\">\n",
       "    millions\n",
       "    <span style=\"font-size: 0.8em; font-weight: bold; line-height: 1; border-radius: 0.35em; vertical-align: middle; margin-left: 0.5rem\">CARDINAL</span>\n",
       "</mark>\n",
       " planets inside sun mainly made hydrogen helium gas surface sun known photosphere photosphere surrounded thin layer gas known chromospheres without \n",
       "<mark class=\"entity\" style=\"background: #aa9cfc; padding: 0.45em 0.6em; margin: 0 0.25em; line-height: 1; border-radius: 0.35em;\">\n",
       "    sun\n",
       "    <span style=\"font-size: 0.8em; font-weight: bold; line-height: 1; border-radius: 0.35em; vertical-align: middle; margin-left: 0.5rem\">PERSON</span>\n",
       "</mark>\n",
       " would no life earth would no plants no animals no human beings living things earth get energy sun survival</div></span>"
      ],
      "text/plain": [
       "<IPython.core.display.HTML object>"
      ]
     },
     "metadata": {},
     "output_type": "display_data"
    }
   ],
   "source": [
    "from spacy import displacy\n",
    "displacy.render(doc1,style='ent',jupyter = True)"
   ]
  },
  {
   "cell_type": "code",
   "execution_count": 16,
   "id": "2e97f754",
   "metadata": {},
   "outputs": [
    {
     "data": {
      "text/html": [
       "<span class=\"tex2jax_ignore\"><div class=\"entities\" style=\"line-height: 2.5; direction: ltr\">The sun is a huge ball of gases. It has a diameter</br>of \n",
       "<mark class=\"entity\" style=\"background: #e4e7d2; padding: 0.45em 0.6em; margin: 0 0.25em; line-height: 1; border-radius: 0.35em;\">\n",
       "    1,392,000 km\n",
       "    <span style=\"font-size: 0.8em; font-weight: bold; line-height: 1; border-radius: 0.35em; vertical-align: middle; margin-left: 0.5rem\">QUANTITY</span>\n",
       "</mark>\n",
       ". It is so huge that it can hold \n",
       "<mark class=\"entity\" style=\"background: #e4e7d2; padding: 0.45em 0.6em; margin: 0 0.25em; line-height: 1; border-radius: 0.35em;\">\n",
       "    millions\n",
       "    <span style=\"font-size: 0.8em; font-weight: bold; line-height: 1; border-radius: 0.35em; vertical-align: middle; margin-left: 0.5rem\">CARDINAL</span>\n",
       "</mark>\n",
       " of planets </br>inside it. The \n",
       "<mark class=\"entity\" style=\"background: #7aecec; padding: 0.45em 0.6em; margin: 0 0.25em; line-height: 1; border-radius: 0.35em;\">\n",
       "    Sun\n",
       "    <span style=\"font-size: 0.8em; font-weight: bold; line-height: 1; border-radius: 0.35em; vertical-align: middle; margin-left: 0.5rem\">ORG</span>\n",
       "</mark>\n",
       " is mainly made up of hydrogen and helium gas. The</br>surface of the \n",
       "<mark class=\"entity\" style=\"background: #7aecec; padding: 0.45em 0.6em; margin: 0 0.25em; line-height: 1; border-radius: 0.35em;\">\n",
       "    Sun\n",
       "    <span style=\"font-size: 0.8em; font-weight: bold; line-height: 1; border-radius: 0.35em; vertical-align: middle; margin-left: 0.5rem\">ORG</span>\n",
       "</mark>\n",
       " is known as the photosphere. The photosphere is surrounded </br>by a thin layer of gas known as the chromospheres. Without the \n",
       "<mark class=\"entity\" style=\"background: #7aecec; padding: 0.45em 0.6em; margin: 0 0.25em; line-height: 1; border-radius: 0.35em;\">\n",
       "    Sun\n",
       "    <span style=\"font-size: 0.8em; font-weight: bold; line-height: 1; border-radius: 0.35em; vertical-align: middle; margin-left: 0.5rem\">ORG</span>\n",
       "</mark>\n",
       ", there would </br>be no life on \n",
       "<mark class=\"entity\" style=\"background: #ff9561; padding: 0.45em 0.6em; margin: 0 0.25em; line-height: 1; border-radius: 0.35em;\">\n",
       "    Earth\n",
       "    <span style=\"font-size: 0.8em; font-weight: bold; line-height: 1; border-radius: 0.35em; vertical-align: middle; margin-left: 0.5rem\">LOC</span>\n",
       "</mark>\n",
       ". There would be no plants, no animals and no human beings. As,</br>all the living things on \n",
       "<mark class=\"entity\" style=\"background: #ff9561; padding: 0.45em 0.6em; margin: 0 0.25em; line-height: 1; border-radius: 0.35em;\">\n",
       "    Earth\n",
       "    <span style=\"font-size: 0.8em; font-weight: bold; line-height: 1; border-radius: 0.35em; vertical-align: middle; margin-left: 0.5rem\">LOC</span>\n",
       "</mark>\n",
       " get their energy from the \n",
       "<mark class=\"entity\" style=\"background: #7aecec; padding: 0.45em 0.6em; margin: 0 0.25em; line-height: 1; border-radius: 0.35em;\">\n",
       "    Sun\n",
       "    <span style=\"font-size: 0.8em; font-weight: bold; line-height: 1; border-radius: 0.35em; vertical-align: middle; margin-left: 0.5rem\">ORG</span>\n",
       "</mark>\n",
       " for their survival.</div></span>"
      ],
      "text/plain": [
       "<IPython.core.display.HTML object>"
      ]
     },
     "metadata": {},
     "output_type": "display_data"
    }
   ],
   "source": [
    "from spacy import displacy\n",
    "displacy.render(doc,style='ent',jupyter = True)"
   ]
  },
  {
   "cell_type": "code",
   "execution_count": 17,
   "id": "e836004b",
   "metadata": {},
   "outputs": [
    {
     "data": {
      "text/plain": [
       "('CARDINAL',\n",
       " 'DATE',\n",
       " 'EVENT',\n",
       " 'FAC',\n",
       " 'GPE',\n",
       " 'LANGUAGE',\n",
       " 'LAW',\n",
       " 'LOC',\n",
       " 'MONEY',\n",
       " 'NORP',\n",
       " 'ORDINAL',\n",
       " 'ORG',\n",
       " 'PERCENT',\n",
       " 'PERSON',\n",
       " 'PRODUCT',\n",
       " 'QUANTITY',\n",
       " 'TIME',\n",
       " 'WORK_OF_ART')"
      ]
     },
     "execution_count": 17,
     "metadata": {},
     "output_type": "execute_result"
    }
   ],
   "source": [
    "nlp.get_pipe('ner').labels"
   ]
  },
  {
   "cell_type": "code",
   "execution_count": 18,
   "id": "33e36dc0",
   "metadata": {},
   "outputs": [
    {
     "data": {
      "text/plain": [
       "array([-1.7952e+00,  8.8564e-01,  1.2995e+00,  5.3467e+00,  2.3356e+00,\n",
       "        6.3150e-01,  3.2695e+00,  5.3845e+00, -4.7579e+00, -1.1556e+00,\n",
       "        7.7207e+00,  1.7057e+00, -5.1134e+00,  5.7279e+00, -6.4964e-01,\n",
       "        2.5735e+00,  4.0722e+00,  2.7346e+00, -3.6327e-01,  3.1659e-01,\n",
       "        1.6892e+00,  4.0048e+00,  2.5983e-02,  1.4939e+00, -3.3041e+00,\n",
       "       -1.4575e+00, -1.2547e+00, -4.5687e+00,  1.5173e+00,  6.8314e-01,\n",
       "        5.7678e-01, -2.0256e+00,  9.1923e-01,  2.8375e+00,  1.7972e+00,\n",
       "       -3.1808e-01,  5.2218e+00,  1.3707e+00,  3.3360e+00,  4.5912e+00,\n",
       "       -1.0869e+00, -2.5762e+00,  4.5750e+00,  5.6772e-01,  9.5806e-01,\n",
       "        7.2935e-01, -5.6902e-01,  8.2880e-01,  6.3900e-01, -4.3184e+00,\n",
       "        2.8204e+00,  6.8541e-01,  3.3632e+00, -3.3472e+00, -4.6527e-01,\n",
       "        2.1472e+00,  1.3270e+00,  8.0798e-01,  9.7008e-01,  2.0223e+00,\n",
       "        4.2663e+00,  2.2851e+00, -3.5020e+00, -3.2424e+00, -1.6429e+00,\n",
       "        8.8501e-01, -3.4272e+00, -4.5300e+00, -2.9577e+00, -6.5071e-01,\n",
       "       -3.8199e+00,  2.3795e+00,  3.0239e-01,  2.9792e+00,  3.2579e+00,\n",
       "       -2.2986e+00, -4.5925e+00,  3.3084e+00,  1.0260e+00, -5.0946e+00,\n",
       "       -1.5199e+00, -4.6278e+00,  4.0935e+00,  3.2023e-01, -1.1599e+00,\n",
       "       -2.6480e+00,  2.4891e+00,  1.5280e-01,  1.6822e-01,  3.2271e+00,\n",
       "       -4.4962e+00,  1.8156e+00,  3.0824e+00, -2.2028e+00,  1.2574e-01,\n",
       "       -1.8436e+00,  2.7399e+00,  7.4424e-01, -3.7772e-01, -1.3878e+00,\n",
       "        8.4665e-01,  5.5769e-01,  2.4677e+00,  1.3583e+00, -7.9974e-01,\n",
       "        1.7874e+00, -4.8535e+00,  1.9315e+00,  1.2082e+00, -7.4699e-01,\n",
       "       -5.8587e-01, -1.5801e+00, -5.3986e-02, -1.2963e+00, -1.7457e+00,\n",
       "        2.0536e+00, -2.1746e-01,  1.5499e+00,  2.9841e+00, -2.2683e+00,\n",
       "       -5.3626e+00, -4.2623e-01, -3.0129e+00,  3.1728e+00,  1.9124e+00,\n",
       "       -3.7205e+00, -1.4759e+00, -4.2901e+00,  2.2570e+00, -8.1175e-01,\n",
       "       -1.1640e-01,  5.9462e+00,  3.7747e+00,  1.4917e+00, -9.4726e-01,\n",
       "       -2.0607e+00, -1.0229e-01, -3.3825e+00,  1.3389e+00,  1.3387e+00,\n",
       "        1.6469e+00, -6.1247e-01,  1.1775e+00, -3.5345e+00,  4.1400e-01,\n",
       "        9.3115e-01, -1.7429e+00, -1.6434e-01,  4.8978e+00,  3.3106e+00,\n",
       "       -1.5536e-01, -1.2178e+00, -8.5938e-01, -1.0153e+00,  1.9123e+00,\n",
       "        5.9735e-01,  1.3499e+00, -7.0636e-01, -2.1573e+00, -1.5571e-01,\n",
       "       -3.0438e-01,  2.6284e+00,  1.0096e-01, -1.4259e+00, -4.3792e-01,\n",
       "       -3.8243e+00, -3.5271e+00,  1.5635e+00,  6.2065e-01,  6.2191e-01,\n",
       "       -3.1837e+00, -9.5202e-01,  7.2555e-02,  4.0671e+00,  3.6058e+00,\n",
       "        1.2436e+00, -2.8262e-01, -2.2365e+00, -8.6073e-01,  1.0203e+00,\n",
       "       -4.1634e+00,  2.0749e+00,  1.3505e+00, -4.0913e+00, -3.4022e+00,\n",
       "        3.5524e-01, -1.6640e+00, -3.8793e+00,  1.3616e-01,  1.4335e+00,\n",
       "        8.4189e-01, -1.0320e+00, -7.9645e-01, -7.6461e-01,  1.5565e+00,\n",
       "        3.4464e+00, -1.1882e-01,  2.1609e+00,  3.5348e+00, -1.4421e+00,\n",
       "       -5.2897e+00, -1.0661e+00,  2.9075e+00,  6.5294e-02, -1.3441e-01,\n",
       "        1.1253e+00, -7.7875e+00,  1.2397e+00, -8.6289e-01, -1.7991e+00,\n",
       "        3.6441e-01,  3.0479e+00,  5.7373e-01,  3.7014e+00,  6.6093e-01,\n",
       "        5.3210e-02,  3.8343e+00,  4.0465e+00, -3.1402e+00, -1.5219e+00,\n",
       "       -1.5991e+00, -2.4561e+00, -1.4998e+00,  4.5025e-01, -2.6686e-01,\n",
       "       -4.4447e+00,  2.3119e+00,  2.7613e+00,  2.0220e+00,  3.7299e-01,\n",
       "        5.1974e-01, -3.1720e+00, -1.8924e+00,  1.0928e+00,  2.4135e+00,\n",
       "        6.6694e-02, -1.4450e+00, -2.5509e+00,  9.6270e-02,  1.4605e+00,\n",
       "       -1.3476e+00, -5.8765e+00,  1.2693e+00, -1.0335e+00, -4.3344e-01,\n",
       "       -2.0125e+00,  4.5884e-01,  3.1575e+00, -3.9026e-01,  2.7699e+00,\n",
       "        2.8420e-01,  1.1078e+00, -3.0683e+00, -3.2904e+00, -4.0174e+00,\n",
       "       -1.2048e+00,  3.4119e+00, -1.8310e+00, -1.4422e+00, -1.6631e+00,\n",
       "       -6.5554e-01,  7.7366e+00,  2.5574e+00, -3.0294e+00, -2.3087e-01,\n",
       "       -2.0982e+00,  3.3902e-01,  1.4536e+00,  4.1596e-01,  3.1909e+00,\n",
       "        5.5535e+00, -5.2227e+00, -7.9742e-01, -9.9169e-02,  1.6499e+00,\n",
       "       -7.2388e-01,  5.6872e-01, -7.2169e-01, -8.2783e-01, -1.0297e+00,\n",
       "        1.2150e+00, -2.2382e+00,  3.2409e+00,  2.4778e+00,  2.2881e-01,\n",
       "       -5.2276e-03, -2.8341e+00,  1.8243e+00, -1.5990e+00,  9.2540e-01,\n",
       "        9.6618e-01,  4.9897e-03,  4.7298e-01,  3.9805e-01, -3.8508e+00,\n",
       "       -4.8591e-02, -7.3362e-02,  1.3136e-01,  2.4344e+00,  3.8248e-01],\n",
       "      dtype=float32)"
      ]
     },
     "execution_count": 18,
     "metadata": {},
     "output_type": "execute_result"
    }
   ],
   "source": [
    "vect1 = nlp('machine')\n",
    "vect1.vector"
   ]
  },
  {
   "cell_type": "code",
   "execution_count": 19,
   "id": "83601536",
   "metadata": {},
   "outputs": [
    {
     "name": "stdout",
     "output_type": "stream",
     "text": [
      "Rajesh ORG\n",
      "Basketball WORK_OF_ART\n",
      "Lagori PERSON\n"
     ]
    }
   ],
   "source": [
    "text1 = 'Rajesh plays Basketball and Lagori'\n",
    "doc2 = nlp(text1)\n",
    "for ent in doc2.ents:\n",
    "    print(ent.text,ent.label_)"
   ]
  },
  {
   "cell_type": "code",
   "execution_count": 20,
   "id": "0aaf37f3",
   "metadata": {},
   "outputs": [
    {
     "data": {
      "text/plain": [
       "'Titles of books, songs, etc.'"
      ]
     },
     "execution_count": 20,
     "metadata": {},
     "output_type": "execute_result"
    }
   ],
   "source": [
    "spacy.explain('WORK_OF_ART')"
   ]
  },
  {
   "cell_type": "code",
   "execution_count": 21,
   "id": "56293b2f",
   "metadata": {},
   "outputs": [
    {
     "name": "stdout",
     "output_type": "stream",
     "text": [
      "Rajesh PERSON\n",
      "Basketball SPORT\n",
      "Lagori SPORT\n"
     ]
    }
   ],
   "source": [
    "nlp2 = spacy.load('en_core_web_md', disable=['ner'])\n",
    "ruler = nlp2.add_pipe('entity_ruler')\n",
    "patterns = [{'label':'SPORT','pattern':'Basketball'},{'label':'SPORT','pattern':'Lagori'},{'label':'PERSON','pattern':'Rajesh'}]\n",
    "ruler.add_patterns(patterns)\n",
    "text1 = 'Rajesh plays Basketball and Lagori'\n",
    "doc2 = nlp2(text1)\n",
    "for ent in doc2.ents:\n",
    "    print(ent.text,ent.label_)"
   ]
  },
  {
   "cell_type": "code",
   "execution_count": 22,
   "id": "1a952f19",
   "metadata": {},
   "outputs": [
    {
     "data": {
      "text/html": [
       "<div>\n",
       "<style scoped>\n",
       "    .dataframe tbody tr th:only-of-type {\n",
       "        vertical-align: middle;\n",
       "    }\n",
       "\n",
       "    .dataframe tbody tr th {\n",
       "        vertical-align: top;\n",
       "    }\n",
       "\n",
       "    .dataframe thead th {\n",
       "        text-align: right;\n",
       "    }\n",
       "</style>\n",
       "<table border=\"1\" class=\"dataframe\">\n",
       "  <thead>\n",
       "    <tr style=\"text-align: right;\">\n",
       "      <th></th>\n",
       "      <th>Entities</th>\n",
       "      <th>label</th>\n",
       "      <th>start_position</th>\n",
       "      <th>end_position</th>\n",
       "    </tr>\n",
       "  </thead>\n",
       "  <tbody>\n",
       "    <tr>\n",
       "      <th>0</th>\n",
       "      <td>millions</td>\n",
       "      <td>CARDINAL</td>\n",
       "      <td>42</td>\n",
       "      <td>50</td>\n",
       "    </tr>\n",
       "    <tr>\n",
       "      <th>1</th>\n",
       "      <td>sun</td>\n",
       "      <td>PERSON</td>\n",
       "      <td>198</td>\n",
       "      <td>201</td>\n",
       "    </tr>\n",
       "  </tbody>\n",
       "</table>\n",
       "</div>"
      ],
      "text/plain": [
       "   Entities     label  start_position  end_position\n",
       "0  millions  CARDINAL              42            50\n",
       "1       sun    PERSON             198           201"
      ]
     },
     "execution_count": 22,
     "metadata": {},
     "output_type": "execute_result"
    }
   ],
   "source": [
    "nlp = spacy.load('en_core_web_md')\n",
    "doc1 = nlp(clean_text)\n",
    "entities = []\n",
    "label = []\n",
    "start_position = []\n",
    "end_position = []\n",
    "for ent in doc1.ents:\n",
    "    entities.append(ent.text)\n",
    "    label.append(ent.label_)\n",
    "    start_position.append(ent.start_char)\n",
    "    end_position.append(ent.end_char)\n",
    "import pandas as pd\n",
    "df = pd.DataFrame({'Entities':entities,'label':label,'start_position':start_position,'end_position':end_position})\n",
    "df"
   ]
  },
  {
   "cell_type": "code",
   "execution_count": 23,
   "id": "63098c5e",
   "metadata": {},
   "outputs": [
    {
     "data": {
      "text/html": [
       "<div>\n",
       "<style scoped>\n",
       "    .dataframe tbody tr th:only-of-type {\n",
       "        vertical-align: middle;\n",
       "    }\n",
       "\n",
       "    .dataframe tbody tr th {\n",
       "        vertical-align: top;\n",
       "    }\n",
       "\n",
       "    .dataframe thead th {\n",
       "        text-align: right;\n",
       "    }\n",
       "</style>\n",
       "<table border=\"1\" class=\"dataframe\">\n",
       "  <thead>\n",
       "    <tr style=\"text-align: right;\">\n",
       "      <th></th>\n",
       "      <th>Entities</th>\n",
       "      <th>label</th>\n",
       "      <th>start_position</th>\n",
       "      <th>end_position</th>\n",
       "    </tr>\n",
       "  </thead>\n",
       "  <tbody>\n",
       "    <tr>\n",
       "      <th>0</th>\n",
       "      <td>1,392,000 km</td>\n",
       "      <td>QUANTITY</td>\n",
       "      <td>54</td>\n",
       "      <td>66</td>\n",
       "    </tr>\n",
       "    <tr>\n",
       "      <th>1</th>\n",
       "      <td>millions</td>\n",
       "      <td>CARDINAL</td>\n",
       "      <td>99</td>\n",
       "      <td>107</td>\n",
       "    </tr>\n",
       "    <tr>\n",
       "      <th>2</th>\n",
       "      <td>Sun</td>\n",
       "      <td>ORG</td>\n",
       "      <td>135</td>\n",
       "      <td>138</td>\n",
       "    </tr>\n",
       "    <tr>\n",
       "      <th>3</th>\n",
       "      <td>Sun</td>\n",
       "      <td>ORG</td>\n",
       "      <td>204</td>\n",
       "      <td>207</td>\n",
       "    </tr>\n",
       "    <tr>\n",
       "      <th>4</th>\n",
       "      <td>Sun</td>\n",
       "      <td>ORG</td>\n",
       "      <td>331</td>\n",
       "      <td>334</td>\n",
       "    </tr>\n",
       "    <tr>\n",
       "      <th>5</th>\n",
       "      <td>Earth</td>\n",
       "      <td>LOC</td>\n",
       "      <td>363</td>\n",
       "      <td>368</td>\n",
       "    </tr>\n",
       "    <tr>\n",
       "      <th>6</th>\n",
       "      <td>Earth</td>\n",
       "      <td>LOC</td>\n",
       "      <td>457</td>\n",
       "      <td>462</td>\n",
       "    </tr>\n",
       "    <tr>\n",
       "      <th>7</th>\n",
       "      <td>Sun</td>\n",
       "      <td>ORG</td>\n",
       "      <td>489</td>\n",
       "      <td>492</td>\n",
       "    </tr>\n",
       "  </tbody>\n",
       "</table>\n",
       "</div>"
      ],
      "text/plain": [
       "       Entities     label  start_position  end_position\n",
       "0  1,392,000 km  QUANTITY              54            66\n",
       "1      millions  CARDINAL              99           107\n",
       "2           Sun       ORG             135           138\n",
       "3           Sun       ORG             204           207\n",
       "4           Sun       ORG             331           334\n",
       "5         Earth       LOC             363           368\n",
       "6         Earth       LOC             457           462\n",
       "7           Sun       ORG             489           492"
      ]
     },
     "execution_count": 23,
     "metadata": {},
     "output_type": "execute_result"
    }
   ],
   "source": [
    "nlp = spacy.load('en_core_web_md')\n",
    "doc1 = nlp(data)\n",
    "entities = []\n",
    "label = []\n",
    "start_position = []\n",
    "end_position = []\n",
    "for ent in doc1.ents:\n",
    "    entities.append(ent.text)\n",
    "    label.append(ent.label_)\n",
    "    start_position.append(ent.start_char)\n",
    "    end_position.append(ent.end_char)\n",
    "import pandas as pd\n",
    "df = pd.DataFrame({'Entities':entities,'label':label,'start_position':start_position,'end_position':end_position})\n",
    "df"
   ]
  },
  {
   "cell_type": "code",
   "execution_count": null,
   "id": "17a75d80",
   "metadata": {},
   "outputs": [],
   "source": [
    "Entities         Label\n",
    "Rajesh          Person\n",
    "Python          Skillset\n",
    "Bombay          Location"
   ]
  },
  {
   "cell_type": "code",
   "execution_count": null,
   "id": "63759d50",
   "metadata": {},
   "outputs": [],
   "source": [
    "Person       Skillset   Location\n",
    "\n",
    "Rajesh      Python      Bombay\n",
    "Priyanka    Java        Bangalore"
   ]
  }
 ],
 "metadata": {
  "kernelspec": {
   "display_name": "Python 3 (ipykernel)",
   "language": "python",
   "name": "python3"
  },
  "language_info": {
   "codemirror_mode": {
    "name": "ipython",
    "version": 3
   },
   "file_extension": ".py",
   "mimetype": "text/x-python",
   "name": "python",
   "nbconvert_exporter": "python",
   "pygments_lexer": "ipython3",
   "version": "3.11.5"
  }
 },
 "nbformat": 4,
 "nbformat_minor": 5
}
