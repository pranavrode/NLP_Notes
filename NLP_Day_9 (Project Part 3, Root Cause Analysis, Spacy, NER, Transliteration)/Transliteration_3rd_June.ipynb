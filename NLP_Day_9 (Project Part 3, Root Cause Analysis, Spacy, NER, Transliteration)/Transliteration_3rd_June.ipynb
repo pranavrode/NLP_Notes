{
 "cells": [
  {
   "cell_type": "code",
   "execution_count": null,
   "id": "dcdef6b3",
   "metadata": {},
   "outputs": [],
   "source": [
    "# ! pip install indic_transliteration"
   ]
  },
  {
   "cell_type": "code",
   "execution_count": null,
   "id": "ce526e1c",
   "metadata": {},
   "outputs": [],
   "source": [
    "# Transliteration\n",
    "Syntax : transliterate(text, romanization_style, script)\n",
    "\n",
    "Parameters :\n",
    "test : The text totransliterated\n",
    "romanization_style : The following romanization styles are available :\n",
    "\n",
    "HK = ‘hk’\n",
    "IAST = ‘iast’ (International Alphabet of Sanskrit Transliteration)\n",
    "ITRANS = ‘itrans’ (Indian languages TRANSliteration)\n",
    "OPTITRANS = ‘optitrans’\n",
    "KOLKATA = ‘kolkata’\n",
    "SLP1 = ‘slp1’\n",
    "VELTHUIS = ‘velthuis’\n",
    "WX = ‘wx’\n",
    "script : The script to be transliterated into. The following scripts are available :\n",
    "\n",
    "Bengali\n",
    "Devanagari\n",
    "Gujarati\n",
    "Kannada\n",
    "Malayalam\n",
    "Telugu\n",
    "Tamil\n",
    "Oriya\n",
    "Gurmukhi/ Punjabi/ Panjabi"
   ]
  },
  {
   "cell_type": "code",
   "execution_count": 1,
   "id": "3d7f99ab",
   "metadata": {},
   "outputs": [],
   "source": [
    "# language translation\n",
    "from googletrans import Translator\n",
    "def lang_trans(data):\n",
    "    translor = Translator()\n",
    "    translated_text = translor.translate(data)\n",
    "    return translated_text.text"
   ]
  },
  {
   "cell_type": "code",
   "execution_count": 2,
   "id": "90c9f308",
   "metadata": {},
   "outputs": [],
   "source": [
    "from indic_transliteration import sanscript\n",
    "from indic_transliteration.sanscript import transliterate\n"
   ]
  },
  {
   "cell_type": "code",
   "execution_count": 3,
   "id": "9e54aae1",
   "metadata": {},
   "outputs": [
    {
     "name": "stdout",
     "output_type": "stream",
     "text": [
      "आअप् क्य कर् रहे हो\n"
     ]
    }
   ],
   "source": [
    "text = \"Aap kya kar rahe ho\"\n",
    "print(transliterate(text,sanscript.OPTITRANS,sanscript.DEVANAGARI))"
   ]
  },
  {
   "cell_type": "code",
   "execution_count": 4,
   "id": "b184bd60",
   "metadata": {},
   "outputs": [
    {
     "data": {
      "text/plain": [
       "'What are you doing'"
      ]
     },
     "execution_count": 4,
     "metadata": {},
     "output_type": "execute_result"
    }
   ],
   "source": [
    "lang_trans('आअप् क्य कर् रहे हो')"
   ]
  },
  {
   "cell_type": "code",
   "execution_count": 5,
   "id": "50902066",
   "metadata": {
    "scrolled": true
   },
   "outputs": [
    {
     "name": "stdout",
     "output_type": "stream",
     "text": [
      "टु कशि अहेस्\n"
     ]
    }
   ],
   "source": [
    "text = \"Tu kashi ahes\"\n",
    "print(transliterate(text,sanscript.OPTITRANS,sanscript.DEVANAGARI))"
   ]
  },
  {
   "cell_type": "code",
   "execution_count": 6,
   "id": "3600302d",
   "metadata": {},
   "outputs": [
    {
     "data": {
      "text/plain": [
       "'how are you'"
      ]
     },
     "execution_count": 6,
     "metadata": {},
     "output_type": "execute_result"
    }
   ],
   "source": [
    "lang_trans('टु कशि अहेस्')"
   ]
  },
  {
   "cell_type": "code",
   "execution_count": 7,
   "id": "72f5f36e",
   "metadata": {},
   "outputs": [
    {
     "name": "stdout",
     "output_type": "stream",
     "text": [
      "ષુપ્રાભાત\n"
     ]
    }
   ],
   "source": [
    "text = \"Supraabhaata\"\n",
    "print(transliterate(text,sanscript.OPTITRANS,sanscript.GUJARATI))"
   ]
  },
  {
   "cell_type": "code",
   "execution_count": 8,
   "id": "1c6bdf2d",
   "metadata": {},
   "outputs": [
    {
     "data": {
      "text/plain": [
       "'good morning'"
      ]
     },
     "execution_count": 8,
     "metadata": {},
     "output_type": "execute_result"
    }
   ],
   "source": [
    "lang_trans('ષુપ્રાભાત')"
   ]
  },
  {
   "cell_type": "code",
   "execution_count": 9,
   "id": "8c30848c",
   "metadata": {},
   "outputs": [
    {
     "name": "stdout",
     "output_type": "stream",
     "text": [
      "ষুপ্রাভাত\n"
     ]
    }
   ],
   "source": [
    "text = \"Supraabhaata\"\n",
    "print(transliterate(text,sanscript.OPTITRANS,sanscript.BENGALI))"
   ]
  },
  {
   "cell_type": "code",
   "execution_count": 10,
   "id": "794a9cf8",
   "metadata": {},
   "outputs": [
    {
     "name": "stdout",
     "output_type": "stream",
     "text": [
      "ஷுப்ராபாத\n"
     ]
    }
   ],
   "source": [
    "text = \"Supraabhaata\"\n",
    "print(transliterate(text,sanscript.OPTITRANS,sanscript.TAMIL))"
   ]
  },
  {
   "cell_type": "code",
   "execution_count": 11,
   "id": "bd4e9c02",
   "metadata": {},
   "outputs": [
    {
     "name": "stdout",
     "output_type": "stream",
     "text": [
      "షుప్రాభాత\n"
     ]
    }
   ],
   "source": [
    "text = \"Supraabhaata\"\n",
    "print(transliterate(text,sanscript.OPTITRANS,sanscript.TELUGU))"
   ]
  },
  {
   "cell_type": "code",
   "execution_count": 12,
   "id": "47ac6009",
   "metadata": {},
   "outputs": [
    {
     "name": "stdout",
     "output_type": "stream",
     "text": [
      "ഷുപ്രാഭാത\n"
     ]
    }
   ],
   "source": [
    "text = \"Supraabhaata\"\n",
    "print(transliterate(text,sanscript.OPTITRANS,sanscript.MALAYALAM))"
   ]
  },
  {
   "cell_type": "code",
   "execution_count": 13,
   "id": "8357d56f",
   "metadata": {},
   "outputs": [
    {
     "name": "stdout",
     "output_type": "stream",
     "text": [
      "ଷୁପ୍ରାଭାତ\n"
     ]
    }
   ],
   "source": [
    "text = \"Supraabhaata\"\n",
    "print(transliterate(text,sanscript.OPTITRANS,sanscript.ORIYA))"
   ]
  },
  {
   "cell_type": "code",
   "execution_count": 14,
   "id": "f4c7f64a",
   "metadata": {},
   "outputs": [
    {
     "name": "stdout",
     "output_type": "stream",
     "text": [
      "ସୁପ୍ରଅଭଅତ\n"
     ]
    }
   ],
   "source": [
    "text = \"Supraabhaata\"\n",
    "print(transliterate(text,sanscript.IAST,sanscript.ORIYA))"
   ]
  },
  {
   "cell_type": "code",
   "execution_count": 15,
   "id": "9747fb6a",
   "metadata": {},
   "outputs": [
    {
     "name": "stdout",
     "output_type": "stream",
     "text": [
      "ଷୁପ୍ରାଭାତ\n"
     ]
    }
   ],
   "source": [
    "text = \"Supraabhaata\"\n",
    "print(transliterate(text,sanscript.ITRANS,sanscript.ORIYA))"
   ]
  },
  {
   "cell_type": "code",
   "execution_count": null,
   "id": "3ee98fb6",
   "metadata": {},
   "outputs": [],
   "source": []
  }
 ],
 "metadata": {
  "kernelspec": {
   "display_name": "Python 3 (ipykernel)",
   "language": "python",
   "name": "python3"
  },
  "language_info": {
   "codemirror_mode": {
    "name": "ipython",
    "version": 3
   },
   "file_extension": ".py",
   "mimetype": "text/x-python",
   "name": "python",
   "nbconvert_exporter": "python",
   "pygments_lexer": "ipython3",
   "version": "3.11.5"
  }
 },
 "nbformat": 4,
 "nbformat_minor": 5
}
